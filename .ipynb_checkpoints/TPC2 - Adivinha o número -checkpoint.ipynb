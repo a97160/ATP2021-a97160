{
 "cells": [
  {
   "cell_type": "markdown",
   "id": "41904fac",
   "metadata": {},
   "source": [
    "## Manifesto\n",
    "\n"
   ]
  },
  {
   "cell_type": "markdown",
   "id": "3595f2ac",
   "metadata": {},
   "source": [
    "**Identificador:** TPC2\n",
    "\n",
    "**Título:** Adivinha o número\n",
    "\n",
    "**Data de início:** 2021.10.14\n",
    "\n",
    "**Data do fim:** 2021.10.21\n",
    "\n",
    "**Supervisor:** José Ramalho,\n",
    "\n",
    "**Aluno:** Diana Filipa Fernandes Cardoso, a97160\n",
    "\n",
    "**Resumo:** Nesta função o computador tem de adivinhar o número em que o jogador pensa, entre 0 e 100."
   ]
  },
  {
   "cell_type": "code",
   "execution_count": 1,
   "id": "8f9bf164",
   "metadata": {},
   "outputs": [
    {
     "name": "stdout",
     "output_type": "stream",
     "text": [
      "Estou a pensar num número entre 1 e 100.\n",
      "Tente de novo.\n",
      "50\n",
      "Tente um número menor!\n",
      "Tente de novo.\n",
      "25\n",
      "Tenta um número maior!\n",
      "Tente de novo.\n",
      "36\n",
      "Tente um número menor!\n",
      "Tente de novo.\n",
      "30\n",
      "Tenta um número maior!\n",
      "Tente de novo.\n",
      "33\n",
      "Parabéns acertou o número em 5\n"
     ]
    }
   ],
   "source": [
    "import random\n",
    "tentativas = 0\n",
    "número = random.randint(1,100)\n",
    "print('Estou a pensar num número entre 1 e 100.')\n",
    "while tentativas < 7:\n",
    "    print('Tente de novo.')\n",
    "    guess = input()\n",
    "    guess= int(guess)\n",
    "    tentativas = tentativas + 1\n",
    "    if guess < número:\n",
    "        print('Tenta um número maior!')\n",
    "    elif guess > número:\n",
    "        print('Tente um número menor!')\n",
    "    elif guess == número:\n",
    "        print('Parabéns acertou o número em', tentativas)\n",
    "        tentativas = 8\n",
    "    else:\n",
    "        número = str(número)\n",
    "        print('Não conseguiste! O número que eu estava a pensar é:'+ número)"
   ]
  },
  {
   "cell_type": "code",
   "execution_count": 7,
   "id": "1719d2d3",
   "metadata": {},
   "outputs": [],
   "source": [
    "import random \n",
    "def main():\n",
    "    acertou = False\n",
    "    inf, sup = 0,100\n",
    "    tentativa = int((sup-inf)/2)\n",
    "    while not acertou:\n",
    "        resposta = input('Pensou no número'+ str(tentativa) + '? (Sim/Não)')\n",
    "        \n",
    "        if resposta == 'Sim':\n",
    "            acertou = True\n",
    "            \n",
    "        else: \n",
    "            resposta = input('O número que pensou é maior ou menor que' + str(tentativa) + '? (Maior/Menor)')\n",
    "            \n",
    "            if resposta == 'Maior':\n",
    "                inf = tentativa + 1\n",
    "                \n",
    "            else:\n",
    "                sup = tentativa - 1\n",
    "                \n",
    "            tentativa = int((sup-inf)/2) + inf\n",
    "    print('Consegui!')"
   ]
  },
  {
   "cell_type": "code",
   "execution_count": null,
   "id": "081ced25",
   "metadata": {},
   "outputs": [],
   "source": []
  },
  {
   "cell_type": "code",
   "execution_count": null,
   "id": "a9f6ad37",
   "metadata": {},
   "outputs": [],
   "source": []
  }
 ],
 "metadata": {
  "kernelspec": {
   "display_name": "Python 3",
   "language": "python",
   "name": "python3"
  },
  "language_info": {
   "codemirror_mode": {
    "name": "ipython",
    "version": 3
   },
   "file_extension": ".py",
   "mimetype": "text/x-python",
   "name": "python",
   "nbconvert_exporter": "python",
   "pygments_lexer": "ipython3",
   "version": "3.8.8"
  }
 },
 "nbformat": 4,
 "nbformat_minor": 5
}
