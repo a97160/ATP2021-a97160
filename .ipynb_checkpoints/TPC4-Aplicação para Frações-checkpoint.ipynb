{
 "cells": [
  {
   "cell_type": "markdown",
   "id": "c91ff62f",
   "metadata": {},
   "source": [
    "### Manifesto\n"
   ]
  },
  {
   "cell_type": "markdown",
   "id": "831123e5",
   "metadata": {},
   "source": [
    "#### Identificador: \n",
    "#### Título:\n",
    "#### Data de início:\n",
    "#### Data do fim:\n",
    "#### Supervisor:\n",
    "#### Aluno:\n",
    "#### Resumo:"
   ]
  },
  {
   "cell_type": "code",
   "execution_count": 3,
   "id": "a89a7c6f",
   "metadata": {},
   "outputs": [],
   "source": [
    "def criarFração(numerador,denominador):\n",
    "    return numerador,denominador"
   ]
  },
  {
   "cell_type": "code",
   "execution_count": 5,
   "id": "d61a7b72",
   "metadata": {},
   "outputs": [],
   "source": [
    "def verFração(f):\n",
    "    n,d = f\n",
    "    print(str(n)+ '/'+ str(d))"
   ]
  },
  {
   "cell_type": "code",
   "execution_count": 14,
   "id": "37b140bf",
   "metadata": {},
   "outputs": [],
   "source": [
    "def mdc(a,b):\n",
    "    res=1\n",
    "    if a>b:\n",
    "        a,b = b,a\n",
    "        for i in range(2,a+1):\n",
    "            if (a%i==0)and (b%i==0):\n",
    "                res= i\n",
    "    return res\n"
   ]
  },
  {
   "cell_type": "code",
   "execution_count": 16,
   "id": "4a9dbfd0",
   "metadata": {},
   "outputs": [],
   "source": [
    "def mdc2(a,b):\n",
    "    if a<b:\n",
    "        return mdc(a,b)\n",
    "    elif a%b == 0:\n",
    "        return b\n",
    "    else:\n",
    "        return mdc(a, a%b)"
   ]
  },
  {
   "cell_type": "code",
   "execution_count": 19,
   "id": "d1ec8ad5",
   "metadata": {},
   "outputs": [],
   "source": [
    "def simplificarFração(f):\n",
    "    n,d = f\n",
    "    m = mdc2(n,d)\n",
    "    return int(n/m), int(d/m)"
   ]
  },
  {
   "cell_type": "code",
   "execution_count": 21,
   "id": "87b09d3b",
   "metadata": {},
   "outputs": [],
   "source": [
    "def somarFrac(f1,f2):\n",
    "    n1,d1= f1\n",
    "    n2,d2= f2\n",
    "    if d1 == d2:\n",
    "        return n1+n2, d1+d2\n",
    "    else:\n",
    "        return n1*d2 + n2*d1, d1*d2"
   ]
  },
  {
   "cell_type": "code",
   "execution_count": 29,
   "id": "48fef3b6",
   "metadata": {},
   "outputs": [],
   "source": [
    "def subtrairFrac(f1,f2):\n",
    "    n1,d1= f1\n",
    "    n2,d2= f2\n",
    "    if d1 == d2:\n",
    "        return n1-n2,d1\n",
    "    else:\n",
    "        return n1*d2 - n2*d1, d1*d2\n",
    "    "
   ]
  },
  {
   "cell_type": "code",
   "execution_count": 31,
   "id": "6e42e0bf",
   "metadata": {},
   "outputs": [],
   "source": [
    "def multiplicarFrac(f1,f2):\n",
    "    n1,d1= f1\n",
    "    n2,d2= f2\n",
    "    if d1 !=0 and d2 !=0:\n",
    "        return n1*n2, d1*d2\n",
    "    else:\n",
    "        return 'Impossível'\n",
    "    "
   ]
  },
  {
   "cell_type": "code",
   "execution_count": 34,
   "id": "c029a355",
   "metadata": {},
   "outputs": [],
   "source": [
    "def dividirFrac(f1,f2):\n",
    "    n1,d1= f1\n",
    "    n2,d2= f2\n",
    "    if d1 !=0 and d2 !=0:\n",
    "        return n1*d2, d1*n2\n",
    "    else:\n",
    "        return 'Impossível'"
   ]
  },
  {
   "cell_type": "code",
   "execution_count": 36,
   "id": "dd7f721c",
   "metadata": {},
   "outputs": [],
   "source": [
    "def menu():\n",
    "    print('''1.Criar uma Fração.\n",
    "    2. Ver uma Fração.\n",
    "    3.Máximo divisor comum de uma Fração.\n",
    "    4. Simplificar uma Fração.\n",
    "    5. Somar Frações.\n",
    "    6. Subtrair Frações.\n",
    "    7. Multiplicar Frações.\n",
    "    8. Dividir Frações.\n",
    "    9. Sair.''')"
   ]
  },
  {
   "cell_type": "code",
   "execution_count": null,
   "id": "637cd3fa",
   "metadata": {},
   "outputs": [
    {
     "name": "stdout",
     "output_type": "stream",
     "text": [
      "1.Criar uma Fração.\n",
      "    2. Ver uma Fração.\n",
      "    3.Máximo divisor comum de uma Fração.\n",
      "    4. Simplificar uma Fração.\n",
      "    5. Somar Frações.\n",
      "    6. Subtrair Frações.\n",
      "    7. Multiplicar Frações.\n",
      "    8. Dividir Frações.\n",
      "    9. Sair.\n",
      "Introduza uma opção.5\n",
      "1.Criar uma Fração.\n",
      "    2. Ver uma Fração.\n",
      "    3.Máximo divisor comum de uma Fração.\n",
      "    4. Simplificar uma Fração.\n",
      "    5. Somar Frações.\n",
      "    6. Subtrair Frações.\n",
      "    7. Multiplicar Frações.\n",
      "    8. Dividir Frações.\n",
      "    9. Sair.\n",
      "Introduza uma opção.5\n",
      "1.Criar uma Fração.\n",
      "    2. Ver uma Fração.\n",
      "    3.Máximo divisor comum de uma Fração.\n",
      "    4. Simplificar uma Fração.\n",
      "    5. Somar Frações.\n",
      "    6. Subtrair Frações.\n",
      "    7. Multiplicar Frações.\n",
      "    8. Dividir Frações.\n",
      "    9. Sair.\n"
     ]
    }
   ],
   "source": [
    "f1= (25,46)\n",
    "f2= (46,100)\n",
    "opção = '-1'\n",
    "fracao= []\n",
    "while opção !=0:\n",
    "    menu()\n",
    "    opção = input('Introduza uma opção.')\n",
    "    if opção == '1':\n",
    "        criarFração()\n",
    "    elif opção == '2':\n",
    "        verFração()\n",
    "    elif opção == '3':\n",
    "        mdc2()\n",
    "    elif opção == '4':\n",
    "        simplificarFração()\n",
    "    elif opção == '5':\n",
    "        somarFrac(f1,f2)\n",
    "    elif opção == '6':\n",
    "        subtrairFrac(f1,f2)\n",
    "    elif opção == '7':\n",
    "        multiplicarFrac(f1,f2)\n",
    "    elif opção == '8':\n",
    "         dividirFrac(f1,f2)\n",
    "    elif opção == '9':\n",
    "        print('Obrigada! Pode sair.')\n",
    "    else:\n",
    "        print('Opção inválida.')\n",
    "        \n",
    "        "
   ]
  },
  {
   "cell_type": "code",
   "execution_count": null,
   "id": "ce44f361",
   "metadata": {},
   "outputs": [],
   "source": []
  }
 ],
 "metadata": {
  "kernelspec": {
   "display_name": "Python 3",
   "language": "python",
   "name": "python3"
  },
  "language_info": {
   "codemirror_mode": {
    "name": "ipython",
    "version": 3
   },
   "file_extension": ".py",
   "mimetype": "text/x-python",
   "name": "python",
   "nbconvert_exporter": "python",
   "pygments_lexer": "ipython3",
   "version": "3.8.8"
  }
 },
 "nbformat": 4,
 "nbformat_minor": 5
}
