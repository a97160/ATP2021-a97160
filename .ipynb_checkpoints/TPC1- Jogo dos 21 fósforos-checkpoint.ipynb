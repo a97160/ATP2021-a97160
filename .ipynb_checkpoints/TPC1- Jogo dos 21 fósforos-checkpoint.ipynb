{
 "cells": [
  {
   "cell_type": "markdown",
   "id": "b528ecc3",
   "metadata": {},
   "source": [
    "Jogo dos 21 fósforos\n"
   ]
  },
  {
   "cell_type": "code",
   "execution_count": 1,
   "id": "f21aa388",
   "metadata": {},
   "outputs": [],
   "source": [
    "def joga_primeiro():\n",
    "    r= input('Quem joga primeiro, jogador ou CPU?')\n",
    "    if r == 'CPU':\n",
    "        CPU()\n",
    "    else:\n",
    "        Jogador()\n",
    "        \n"
   ]
  },
  {
   "cell_type": "code",
   "execution_count": 2,
   "id": "b241a743",
   "metadata": {},
   "outputs": [],
   "source": [
    "def Jogador():\n",
    "    total=21\n",
    "    while total > 1:\n",
    "        s = input('Escolha quantos fósforos quer tirar:')\n",
    "        p = 5 - int(s)\n",
    "        print('CPU tira', p)\n",
    "        total = total-5\n",
    "        print('Ficam',total, 'fósforos')\n",
    "    print('CPU ganhou o jogo!')\n",
    "    "
   ]
  },
  {
   "cell_type": "code",
   "execution_count": 3,
   "id": "8a49d9f0",
   "metadata": {},
   "outputs": [],
   "source": [
    "def CPU():\n",
    "    total = 21\n",
    "    while total > 1:\n",
    "        print('CPU tira 1 fósforo')\n",
    "        q = input('Escolha quantos fósforos quer tirar:')\n",
    "        total = total - 1 - int(q)\n",
    "        print('Ficam',total, 'fósforos')\n",
    "        if int(q) + 1 !=5:\n",
    "            print('CPU tira', 4-int(q))\n",
    "            total = total - (4-int(q))\n",
    "            while total > 1:\n",
    "                s = input('Escolha quantos fósforos quer tirar:')\n",
    "                p = 5-int(s)\n",
    "                print('CPU tira', p)\n",
    "                total = total-5\n",
    "                print('Ficam', total, 'fósforos')\n",
    "            print('CPU ganhou o jogo!')\n",
    "        elif total == 1:\n",
    "            print('Excelente, ganhou o jogo!')\n",
    "            \n",
    "        "
   ]
  },
  {
   "cell_type": "code",
   "execution_count": 4,
   "id": "00035df2",
   "metadata": {},
   "outputs": [
    {
     "name": "stdout",
     "output_type": "stream",
     "text": [
      "Quem joga primeiro, jogador ou CPU?Jogador\n",
      "Escolha quantos fósforos quer tirar:3\n",
      "Cpu tira 2\n",
      "Ficam 16 fósforos\n",
      "Escolha quantos fósforos quer tirar:4\n",
      "Cpu tira 1\n",
      "Ficam 11 fósforos\n",
      "Escolha quantos fósforos quer tirar:5\n",
      "Cpu tira 0\n",
      "Ficam 6 fósforos\n",
      "Escolha quantos fósforos quer tirar:1\n",
      "Cpu tira 4\n",
      "Ficam 1 fósforos\n",
      "CPU ganhou o jogo!\n"
     ]
    }
   ],
   "source": [
    "joga_primeiro()"
   ]
  },
  {
   "cell_type": "code",
   "execution_count": null,
   "id": "966b500d",
   "metadata": {},
   "outputs": [],
   "source": []
  }
 ],
 "metadata": {
  "kernelspec": {
   "display_name": "Python 3",
   "language": "python",
   "name": "python3"
  },
  "language_info": {
   "codemirror_mode": {
    "name": "ipython",
    "version": 3
   },
   "file_extension": ".py",
   "mimetype": "text/x-python",
   "name": "python",
   "nbconvert_exporter": "python",
   "pygments_lexer": "ipython3",
   "version": "3.8.8"
  }
 },
 "nbformat": 4,
 "nbformat_minor": 5
}
