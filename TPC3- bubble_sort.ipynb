{
 "cells": [
  {
   "cell_type": "markdown",
   "id": "08a96acc",
   "metadata": {},
   "source": [
    "## Manifesto"
   ]
  },
  {
   "cell_type": "markdown",
   "id": "1f13acaa",
   "metadata": {},
   "source": [
    "#### Identificador: \n",
    "#### Título:\n",
    "#### Data de início:\n",
    "#### Data do fim:\n",
    "#### Supervisor:\n",
    "#### Aluno:\n",
    "#### Resumo:"
   ]
  },
  {
   "cell_type": "code",
   "execution_count": 7,
   "id": "848a0e08",
   "metadata": {},
   "outputs": [],
   "source": [
    "lista = [5,20,18,100,39,56,73,66]\n",
    "def bubble_sort(lista):\n",
    "    for i in range(len(lista)):\n",
    "        for j in range(len(lista)-1):\n",
    "            if lista[j]> lista[j+1]:\n",
    "                lista[j], lista[j+1] = lista[j+1], lista[j] \n",
    "    print(lista)"
   ]
  },
  {
   "cell_type": "code",
   "execution_count": 8,
   "id": "fa64fb2a",
   "metadata": {},
   "outputs": [
    {
     "name": "stdout",
     "output_type": "stream",
     "text": [
      "[5, 18, 20, 39, 56, 66, 73, 100]\n"
     ]
    }
   ],
   "source": [
    "bubble_sort(lista)"
   ]
  },
  {
   "cell_type": "code",
   "execution_count": null,
   "id": "e6ee33a1",
   "metadata": {},
   "outputs": [],
   "source": []
  }
 ],
 "metadata": {
  "kernelspec": {
   "display_name": "Python 3",
   "language": "python",
   "name": "python3"
  },
  "language_info": {
   "codemirror_mode": {
    "name": "ipython",
    "version": 3
   },
   "file_extension": ".py",
   "mimetype": "text/x-python",
   "name": "python",
   "nbconvert_exporter": "python",
   "pygments_lexer": "ipython3",
   "version": "3.8.8"
  }
 },
 "nbformat": 4,
 "nbformat_minor": 5
}
